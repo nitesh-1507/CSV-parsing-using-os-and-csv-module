{
 "cells": [
  {
   "cell_type": "code",
   "execution_count": 20,
   "metadata": {},
   "outputs": [],
   "source": [
    "import os\n",
    "import csv\n",
    "\n",
    "DATADIR = \"C:/Users/NITESH/Desktop/jupter-notebook\"\n",
    "DATAFILE = \"beatles-diskography.csv\"\n",
    "\n",
    "\n",
    "def parse_file(datafile):\n",
    "        parse_data = []\n",
    "        with open(datafile, 'r') as f:\n",
    "            z=csv.DictReader(f)\n",
    "            for line in z:\n",
    "                parse_data.append(line)\n",
    "        return parse_data\n",
    "\n",
    "\n",
    "if __name__ == '__main__':\n",
    "    # a simple test of your implemetation\n",
    "    datafile = os.path.join(DATADIR, DATAFILE)\n",
    "    d = parse_file(datafile)\n",
    "    "
   ]
  },
  {
   "cell_type": "code",
   "execution_count": 23,
   "metadata": {},
   "outputs": [
    {
     "data": {
      "text/plain": [
       "OrderedDict([('Title', 'Please Please Me'),\n",
       "             ('Released', '22 March 1963'),\n",
       "             ('Label', 'Parlophone(UK)'),\n",
       "             ('UK Chart Position', '1'),\n",
       "             ('US Chart Position', '-'),\n",
       "             ('BPI Certification', 'Gold'),\n",
       "             ('RIAA Certification', 'Platinum')])"
      ]
     },
     "execution_count": 23,
     "metadata": {},
     "output_type": "execute_result"
    }
   ],
   "source": [
    "d[0]"
   ]
  },
  {
   "cell_type": "code",
   "execution_count": 24,
   "metadata": {},
   "outputs": [
    {
     "data": {
      "text/plain": [
       "OrderedDict([('Title', 'With the Beatles'),\n",
       "             ('Released', '22 November 1963'),\n",
       "             ('Label', 'Parlophone(UK)'),\n",
       "             ('UK Chart Position', '1'),\n",
       "             ('US Chart Position', '-'),\n",
       "             ('BPI Certification', 'Platinum'),\n",
       "             ('RIAA Certification', 'Gold')])"
      ]
     },
     "execution_count": 24,
     "metadata": {},
     "output_type": "execute_result"
    }
   ],
   "source": [
    "d[1]"
   ]
  },
  {
   "cell_type": "code",
   "execution_count": null,
   "metadata": {},
   "outputs": [],
   "source": []
  }
 ],
 "metadata": {
  "kernelspec": {
   "display_name": "Python 3",
   "language": "python",
   "name": "python3"
  },
  "language_info": {
   "codemirror_mode": {
    "name": "ipython",
    "version": 3
   },
   "file_extension": ".py",
   "mimetype": "text/x-python",
   "name": "python",
   "nbconvert_exporter": "python",
   "pygments_lexer": "ipython3",
   "version": "3.7.1"
  }
 },
 "nbformat": 4,
 "nbformat_minor": 2
}
